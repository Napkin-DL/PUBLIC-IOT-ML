{
 "cells": [
  {
   "cell_type": "markdown",
   "metadata": {},
   "source": [
    "# Module 3. Amazon A2I(Augmented AI) integration with Amazon SageMaker Inference\n",
    "\n",
    "***[Note] 본 핸즈온은 필수가 아니며, 앞의 핸즈온들을 수월하게 마치셨을 경우에만 수행하시는 것을 권장드립니다.***\n",
    "\n",
    "\n",
    "## Introduction\n",
    "\n",
    "이 튜토리얼에서는 검증 데이터 및 테스트 데이터에 대해 추론 결과가 좋지 않은 경우들(예: 오분류, 미검출, 낮은 예측 score 등)에 대해 Amazon Augmented AI(이하 A2I)를 사용하는 법을 수행해 보겠습니다. 이를 통해 추론 결과에 대한 보정이나 점진적 훈련(incremental training)을 통해\n",
    "모델 성능을 개선시킬 수 있습니다.\n",
    "\n",
    "참고로 A2I는 워크샵을 위해 간소화하였기 때문에, 실제 프로덕션 적용 시에는 엣지 디바이스의 추론 결과를 IoT Core를 통해 AWS로 전송하여 A2I 및 증분 훈련 수행 후 다시 엣지 디바이스로 배포하는 것을 권장드립니다. 아래는 프로덕션 적용 예시입니다.\n",
    "  \n",
    "- 어느 정도 학습이 완료된 모델 아티팩트를 s3에 미리 저장 (핸즈온 시간 단축 및 일관성 있는 성능을 위해)\n",
    "- S3에 저장된 pre-trained 모델을 불러와서 1 epoch만 Incremental training (학습 데이터/검증 데이터 동일)\n",
    "- 검증 데이터셋에서 추론 후, 오검출/미검출되거나 score가 낮은 샘플들 중 2-5장에 대해 A2I 수행(deploy는 로컬 모드에서 수행하거나 `model.tar.gz`를 로컬로 가져와서 직접 수행)\n",
    "- Workteam (private team) 생성\n",
    "- 휴먼 리뷰어의 작업이 완료 후 A2I JSON output 자동 생성\n",
    "- A2I의 JSON output을 Ground Truth의 Augmented manifest 파일로 변환\n",
    "- Augmented manifest 파일을 이용해 Incremental training 수행 (학습 데이터 2~5장만 사용)\n",
    "- Score가 낮은 샘플에 대해 재학습한 모델로 추론 결과 보여주기 (deploy는 로컬 모드에서 수행하거나 model.tar.gz를 로컬로 가져와서 직접 수행)\n",
    "- Edge 배포용 모델로 컴파일\n",
    " \n",
    "\n",
    "## Amazon A2I란?\n",
    "Amazon A2I를 사용하면 머신 러닝 추론 결과가 좋지 못한 경우, 사람(휴먼 리뷰어)이 개입하여 추론 결과를 보완하고 선택적으로 보완된 결과를 증분 훈련(incremental training)을 통해 반영하는 머신 러닝 워크플로를 쉽게 구축할 수 있습니다.\n",
    "\n",
    "Amazon A2I를 휴먼 리뷰 워크플로에 통합하려면 다음 세 가지 리소스들이 필요합니다.\n",
    "\n",
    "* **Worker task template**: 작업자(worker) UI를 만들기 위한 템플릿입니다. Worker UI를 통해 휴먼 리뷰어에게 지시 사항 및 작업을 완료할 수 있는 interactive 도구들을 제공합니다. 자세한 내용은 https://docs.aws.amazon.com/sagemaker/latest/dg/a2i-instructions-overview.html 을 참조하세요.\n",
    "\n",
    "* **Human review workflow**: 흐름 정의(flow definition)라고도 하는 휴먼 리뷰 워크플로우입니다. 이 흐름 정의를 사용하여 인력을 구성하고 인력 검토 작업을 수행하는 방법에 대한 정보를 제공합니다. A2I 콘솔 또는 A2I API를 사용하여 흐름 정의를 생성할 수 있습니다. 자세한 내용은 https://docs.aws.amazon.com/sagemaker/latest/dg/a2i-create-flow-definition.html 을 참조하세요.\n",
    "\n",
    "* **Human loop**: 휴먼 리뷰 워크플로를 시작하는 휴먼 루프입니다. 휴먼 루프가 트리거되면 플로우 정의에 지정된 대로 휴먼 검토 태스크가 휴먼 리뷰어에게(즉, 작업자)에게 전송됩니다.\n",
    "\n",
    "\n",
    "A2I에 대한 자세한 설명은 아래 웹페이지들을 참조해 주세요.\n",
    "- https://aws.amazon.com/augmented-ai/ \n",
    "- https://docs.aws.amazon.com/sagemaker/latest/dg/a2i-getting-started.html"
   ]
  },
  {
   "cell_type": "markdown",
   "metadata": {},
   "source": [
    "# 1. Inference Graph 구축"
   ]
  },
  {
   "cell_type": "code",
   "execution_count": 1,
   "metadata": {},
   "outputs": [
    {
     "name": "stdout",
     "output_type": "stream",
     "text": [
      "WARNING:tensorflow:From /home/ec2-user/anaconda3/envs/tensorflow_p27/lib/python2.7/site-packages/tensorflow_core/__init__.py:1467: The name tf.estimator.inputs is deprecated. Please use tf.compat.v1.estimator.inputs instead.\n",
      "\n"
     ]
    }
   ],
   "source": [
    "import tensorflow as tf\n",
    "import os\n",
    "import numpy as np\n",
    "from tensorflow.python.platform import gfile\n",
    "from PIL import Image\n",
    "from matplotlib.pyplot import imshow\n",
    "\n",
    "model_filepath = './model_result/inference_graph_frozen.pb'"
   ]
  },
  {
   "cell_type": "code",
   "execution_count": 2,
   "metadata": {},
   "outputs": [],
   "source": [
    "tf.global_variables_initializer()\n",
    "tf.reset_default_graph()"
   ]
  },
  {
   "cell_type": "markdown",
   "metadata": {},
   "source": [
    "추론을 수행하기 위한 그래프를 작성합니다. 물론 추론 컨테이너 환경을 구축하여 SageMaker 엔드포인트에 배포하여 추론을 수행할 수도 있지만, \n",
    "실습의 편의성을 위해 별도의 추론 컨테이너 없이 곧바로 네트워크 구조와 모델 파라메터를 로드하여 추론을 수행하겠습니다. "
   ]
  },
  {
   "cell_type": "code",
   "execution_count": 3,
   "metadata": {},
   "outputs": [],
   "source": [
    "class MobileNetInference(object):\n",
    "    \n",
    "    def __init__(self, model_filepath, class_map):\n",
    "        self.model_filepath = model_filepath\n",
    "        self.class_map = class_map\n",
    "        self.load_graph(model_filepath = model_filepath)\n",
    "        \n",
    "        \n",
    "    def load_graph(self, model_filepath):\n",
    "        self.graph = tf.Graph()\n",
    "\n",
    "        # Load the protobuf model file(.pb) and parse it to retrive the graph \n",
    "        with tf.gfile.GFile(model_filepath, 'rb') as f:\n",
    "            graph_def = tf.GraphDef()\n",
    "            graph_def.ParseFromString(f.read())   \n",
    "        \n",
    "        # Set default graph as graph\n",
    "        with self.graph.as_default():\n",
    "            tf.import_graph_def(graph_def, input_map=None, return_elements=None, name=\"\")   \n",
    "            self.net_input = self.graph.get_tensor_by_name('input:0')\n",
    "            self.net_output = self.graph.get_tensor_by_name('MobilenetV1/Predictions/Reshape_1:0')\n",
    "        \n",
    "        # Avoid to change graph\n",
    "        self.graph.finalize()\n",
    "        \n",
    "        self.sess = tf.Session(graph = self.graph)\n",
    "        self.input_node_info = [n for n in graph_def.node if n.op == 'Placeholder']\n",
    "  \n",
    "\n",
    "    def get_all_tensors(self):    \n",
    "        all_tensors = [tensor for op in self.graph.get_operations() for tensor in op.values()]\n",
    "        return all_tensors\n",
    "    \n",
    "    \n",
    "    def get_input_node_info(self):\n",
    "        return self.input_node_info[0]\n",
    "    \n",
    "    def predict(self, img_filepath, img_size=128, show_image=True):    \n",
    "        # Open image data and resize it\n",
    "        img = Image.open(img_filepath)\n",
    "        img = img.resize((img_size, img_size)) \n",
    "        img_arr = np.asarray(img)\n",
    "        if show_image: \n",
    "            imshow(img_arr)\n",
    "        img_arr = img_arr[np.newaxis, :]\n",
    "\n",
    "        # Get predictions\n",
    "        pred_scores = self.sess.run(self.net_output, feed_dict={self.net_input: img_arr} )\n",
    "        pred_label = np.argmax(pred_scores, axis=1)[0]\n",
    "        pred_label_str = class_map[pred_label]\n",
    "        pred_score = pred_scores[0][pred_label]\n",
    "        \n",
    "        return pred_label, pred_label_str, pred_score   "
   ]
  },
  {
   "cell_type": "markdown",
   "metadata": {},
   "source": [
    "모델은 초기화 시에만 생성하여 메모리에 로드합니다. 매번 입력 데이터에 대해 모델을 재생성하는 것은 많은 지연 시간을 초래합니다."
   ]
  },
  {
   "cell_type": "code",
   "execution_count": 4,
   "metadata": {},
   "outputs": [],
   "source": [
    "class_map = {0:'background', 1:'dog'}\n",
    "model = MobileNetInference(model_filepath, class_map)"
   ]
  },
  {
   "cell_type": "code",
   "execution_count": 5,
   "metadata": {},
   "outputs": [
    {
     "name": "stdout",
     "output_type": "stream",
     "text": [
      "Tensor(\"MobilenetV1/Predictions/Reshape_1:0\", shape=(1, 2), dtype=float32)\n"
     ]
    }
   ],
   "source": [
    "all_tensors = model.get_all_tensors()\n",
    "print(all_tensors[-1])"
   ]
  },
  {
   "cell_type": "code",
   "execution_count": 6,
   "metadata": {},
   "outputs": [
    {
     "data": {
      "text/plain": [
       "name: \"input\"\n",
       "op: \"Placeholder\"\n",
       "attr {\n",
       "  key: \"dtype\"\n",
       "  value {\n",
       "    type: DT_FLOAT\n",
       "  }\n",
       "}\n",
       "attr {\n",
       "  key: \"shape\"\n",
       "  value {\n",
       "    shape {\n",
       "      dim {\n",
       "        size: 1\n",
       "      }\n",
       "      dim {\n",
       "        size: 128\n",
       "      }\n",
       "      dim {\n",
       "        size: 128\n",
       "      }\n",
       "      dim {\n",
       "        size: 3\n",
       "      }\n",
       "    }\n",
       "  }\n",
       "}"
      ]
     },
     "execution_count": 6,
     "metadata": {},
     "output_type": "execute_result"
    }
   ],
   "source": [
    "model.get_input_node_info()"
   ]
  },
  {
   "cell_type": "markdown",
   "metadata": {},
   "source": [
    "# 2. 샘플 데이터 추론\n",
    "\n",
    "앞에서 정의한 클래스의 predict 메소드를 사용하여 간단하게 이미지 파일에 대한 추론 결과를 확인할 수 있습니다."
   ]
  },
  {
   "cell_type": "code",
   "execution_count": 7,
   "metadata": {},
   "outputs": [],
   "source": [
    "from os import listdir\n",
    "from os.path import isfile, join"
   ]
  },
  {
   "cell_type": "code",
   "execution_count": 8,
   "metadata": {},
   "outputs": [],
   "source": [
    "test_dog_img_path = './test_samples/dog'\n",
    "test_dog_img_list = [f for f in listdir(test_dog_img_path) if isfile(join(test_dog_img_path, f))]\n",
    "\n",
    "test_bg_img_path = './test_samples/background'\n",
    "test_bg_img_list = [f for f in listdir(test_bg_img_path) if isfile(join(test_bg_img_path, f))]"
   ]
  },
  {
   "cell_type": "code",
   "execution_count": 9,
   "metadata": {},
   "outputs": [
    {
     "data": {
      "text/plain": [
       "(['miniature_pinscher_157.jpg',\n",
       "  'german_shorthaired_112.jpg',\n",
       "  'newfoundland_10.jpg',\n",
       "  'german_shorthaired_98.jpg',\n",
       "  'beagle_49.jpg',\n",
       "  'yorkshire_terrier_198.jpg',\n",
       "  'miniature_pinscher_199.jpg',\n",
       "  'saint_bernard_23.jpg'],\n",
       " ['000000029984.jpg',\n",
       "  '000000133969.jpg',\n",
       "  '000000133819.jpg',\n",
       "  '000000059044.jpg',\n",
       "  '000000119233.jpg',\n",
       "  '000000119088.jpg'])"
      ]
     },
     "execution_count": 9,
     "metadata": {},
     "output_type": "execute_result"
    }
   ],
   "source": [
    "test_dog_img_list, test_bg_img_list"
   ]
  },
  {
   "cell_type": "code",
   "execution_count": 10,
   "metadata": {},
   "outputs": [
    {
     "data": {
      "text/plain": [
       "(1, 'dog', 0.9497496)"
      ]
     },
     "execution_count": 10,
     "metadata": {},
     "output_type": "execute_result"
    },
    {
     "data": {
      "image/png": "[encoded data removed]",
      "text/plain": [
       "<Figure size 432x288 with 1 Axes>"
      ]
     },
     "metadata": {},
     "output_type": "display_data"
    }
   ],
   "source": [
    "img_filepath = os.path.join(test_dog_img_path, test_dog_img_list[0])\n",
    "model.predict(img_filepath)"
   ]
  },
  {
   "cell_type": "code",
   "execution_count": 11,
   "metadata": {},
   "outputs": [
    {
     "data": {
      "text/plain": [
       "(1, 'dog', 0.9511794)"
      ]
     },
     "execution_count": 11,
     "metadata": {},
     "output_type": "execute_result"
    },
    {
     "data": {
      "image/png": "[encoded data removed]",
      "text/plain": [
       "<Figure size 432x288 with 1 Axes>"
      ]
     },
     "metadata": {},
     "output_type": "display_data"
    }
   ],
   "source": [
    "img_filepath = os.path.join(test_bg_img_path, test_bg_img_list[5])\n",
    "model.predict(img_filepath)"
   ]
  },
  {
   "cell_type": "markdown",
   "metadata": {},
   "source": [
    "# 3. Creating Human review Workteam or Workforce"
   ]
  },
  {
   "cell_type": "markdown",
   "metadata": {},
   "source": [
    "인력(workforce)은 데이터셋에 레이블을 지정하기 위해 선택한 작업자 그룹입니다. 벤더가 관리하는 인력인 Amazon Mechanical Turk 인력을 선택하거나, private 인력을 생성할 수 있습니다.\n",
    "\n",
    "본 섹션에서는 AWS 콘솔로 private 인력을 생성하겠습니다. 아래 순서를 따라 priavte 팀을 생성 후 한 명의 리뷰어를 추가해 봅시다.\n",
    "역할(role)에 필요한 권한을 추가하려면 https://docs.aws.amazon.com/sagemaker/latest/dg/a2i-permissions-security.html 을 참조해 주세요.\n",
    "\n",
    "1. AWS Console > Amazon SageMaker > **`Labeling workforces(레이블링 인력)`** 으로 이동 후, 상단의 **`Private(프라이빗)`** 탭을 클릭합니다.\n",
    "2. 상단의 **`Private`** 탭을 클릭 후, **`Create private team(프라이빗 팀 만들기)`** 버튼을 클릭합니다.\n",
    "3. Team name 이름에 임의의 이름을 입력하고 **`Create a new Amazon Cognito user group(Amazon Cognito 사용자 그룹 새로 만들기)`** 을 선택한 다음, 하단의 **`Create private team(프라이빗 팀 만들기)`** 버튼을 클릭합니다.\n",
    "![Fig01](./imgs/fig01.png)\n",
    "<br>\n",
    "4. Amazon SageMaker > Labeling workforces 화면 맨 아래의 **`Workers(작업자)`** 탭에셔, 우측 하단의 **`Invite new workers(새 작업자 초대)`** 버튼을 클릭합니다.\n",
    "![Fig02](./imgs/fig02.png)\n",
    "<br>\n",
    "5. 이메일 주소 항목에 여러분의 이메일 주소를 입력하고 **`Invite new workers(새 작업자 초대)`** 버튼을 클릭합니다.\n",
    "![Fig03](./imgs/fig03.png)\n",
    "<br>\n",
    "6. Amazon SageMaker > Labeling workforces 화면으 **`Private teams`** 탭에서 여러분이 아까 생성한 private team 이름의 링크를 클릭합니다.\n",
    "![Fig04](./imgs/fig04.png)\n",
    "<br>\n",
    "7. Workers 탭을 클릭 후, **`Add workers to team(팀에 작업자 추가)`** 버튼을 클릭합니다.\n",
    "![Fig05](./imgs/fig05.png)\n",
    "<br>\n",
    "8. 이메일 주소를 선택 후, **`Add workers to team(팀에 작업자 추가)`** 버튼을 클릭합니다.\n",
    "![Fig06](./imgs/fig06.png)\n",
    "<br>\n",
    "9. Private team 항목에서 private team 이름의 링크를 클릭하면, ARN을 아래 화면과 같이 확인할 수 있습니다. 이 arn을 아래 코드 셀에 붙여 넣으시면 됩니다.\n",
    "    - `arn:aws:sagemaker:[YOUR REGION]:[YOUR ACCOUNT ID]:workteam/private-crowd/[YOUR PRIVATE TEAM NAME]`\n",
    "![Fig07](./imgs/fig07.png)   \n",
    "<br>\n",
    "10. 참고로, 라벨링 작업이 이루어지는 포털 로그인 URL은 **`Private workforce summary(프라이빗 작업 인력 요약)`** 항목의 **`Labeling portal sign-in URL(레이블 지정 포털 로그인 URL)`** 입니다. 먼저, 여러분이 입력한 이메일을 확인하면 아래 그림과 같은 메일을 받을 수 있고, 이에 따라 포털로 로그인하시면 라벨링 작업을 수행하는 페이지로 접속할 수 있습니다. Human Loop가 활성화되면 여기에 신규 워크로드가 생성됩니다. \n",
    "![Fig08](./imgs/fig08.png)   \n",
    "![Fig09](./imgs/fig09.png)  "
   ]
  },
  {
   "cell_type": "markdown",
   "metadata": {},
   "source": [
    "상기 과정에서 복사한 `arn:aws:sagemaker:[YOUR REGION]:[YOUR ACCOUNT ID]:workteam/private-crowd/[YOUR PRIVATE TEAM NAME]` 을 아래의 코드 셀에 붙여 넣어 주세요."
   ]
  },
  {
   "cell_type": "code",
   "execution_count": 12,
   "metadata": {},
   "outputs": [],
   "source": [
    "#WORKTEAM_ARN = \"arn:aws:sagemaker:[YOUR REGION]:[YOUR ACCOUNT ID]:workteam/private-crowd/[YOUR PRIVATE TEAM NAME]\"\n",
    "WORKTEAM_ARN = \"arn:aws:sagemaker:us-east-1:143656149352:workteam/private-crowd/daekeun-team-hol\""
   ]
  },
  {
   "cell_type": "markdown",
   "metadata": {},
   "source": [
    "# 4. A2I Client Setup"
   ]
  },
  {
   "cell_type": "code",
   "execution_count": 13,
   "metadata": {},
   "outputs": [],
   "source": [
    "import io\n",
    "import uuid\n",
    "import boto3\n",
    "import botocore\n",
    "import sagemaker\n",
    "import time\n",
    "import json\n",
    "\n",
    "timestamp = time.strftime(\"%Y-%m-%d-%H-%M-%S\", time.gmtime())\n",
    "\n",
    "sagemaker_session = sagemaker.Session()\n",
    "region = sagemaker_session.boto_session.region_name\n",
    "\n",
    "# Amazon SageMaker client\n",
    "sagemaker_client = boto3.client('sagemaker', region)\n",
    "\n",
    "# Amazon Augment AI (A2I) client\n",
    "a2i = boto3.client('sagemaker-a2i-runtime')\n",
    "\n",
    "# Amazon S3 client \n",
    "s3 = boto3.client('s3', region)\n",
    "\n",
    "# Flow definition name - 이 값은 계정 및 지역마다 고유합니다. 여기에서 여러분의 고유 값을 제공할 수도 있습니다.\n",
    "flowDefinitionName = 'fd-sagemaker-iot-public-workshop-demo-' + timestamp\n",
    "\n",
    "# Task UI name - 이 값은 계정 및 지역마다 고유합니다. 여기에서 여러분의 고유 값을 제공할 수도 있습니다.\n",
    "taskUIName = 'ui-sagemaker-iot-public-workshop-demo-' + timestamp\n",
    "\n",
    "sess = sagemaker.Session()\n",
    "BUCKET = sess.default_bucket()\n",
    "OUTPUT_PATH = 's3://{}/a2i-results'.format(BUCKET)\n",
    "MODEL_PATH = 's3://{}/model'.format(BUCKET)"
   ]
  },
  {
   "cell_type": "markdown",
   "metadata": {},
   "source": [
    "## 4.1.  Human Task UI 생성\n",
    "\n",
    "HTML로 구성된 UI 템플릿으로 휴먼 작업 UI 리소스를 생성할 수 있으며, 이 템플릿은 휴먼 루프가 필요할 때마다 휴먼 워커에게 렌더링됩니다.\n",
    "참고로, 사전에 구축된 70여 가지의 UI를 https://github.com/aws-samples/amazon-a2i-sample-task-uis 에서 확인할 수 있습니다.\n"
   ]
  },
  {
   "cell_type": "code",
   "execution_count": 14,
   "metadata": {},
   "outputs": [],
   "source": [
    "template = r\"\"\"\n",
    "<script src=\"https://assets.crowd.aws/crowd-html-elements.js\"></script>\n",
    "\n",
    "<crowd-form>\n",
    "  <crowd-image-classifier\n",
    "    name=\"annotatedResult\"\n",
    "    src=\"{{ task.input.taskObject | grant_read_access }}\"\n",
    "    header=\"Please identify the class in this image\"  \n",
    "    categories=\"['dog', 'background']\"\n",
    "  >\n",
    "    <full-instructions header=\"Classification Instructions\">\n",
    "      <p>Read the task carefully and inspect the image.</p>\n",
    "      <p>Choose the appropriate label(s) that best suits the image.</p>\n",
    "    </full-instructions>\n",
    "\n",
    "    <short-instructions>\n",
    "      <p>Read the task carefully and inspect the image.</p>\n",
    "      <p>Choose the appropriate label that best suits the image.</p>\n",
    "    </short-instructions>\n",
    "  </crowd-image-classifier>\n",
    "</crowd-form>\n",
    "\"\"\"\n",
    "\n",
    "def create_task_ui():\n",
    "    '''\n",
    "    Creates a Human Task UI resource.\n",
    "\n",
    "    Returns:\n",
    "    struct: HumanTaskUiArn\n",
    "    '''\n",
    "    response = sagemaker_client.create_human_task_ui(\n",
    "        HumanTaskUiName=taskUIName,\n",
    "        UiTemplate={'Content': template})\n",
    "    return response"
   ]
  },
  {
   "cell_type": "code",
   "execution_count": 15,
   "metadata": {},
   "outputs": [],
   "source": [
    "# Create task UI\n",
    "humanTaskUiResponse = create_task_ui()\n",
    "humanTaskUiArn = humanTaskUiResponse['HumanTaskUiArn']"
   ]
  },
  {
   "cell_type": "markdown",
   "metadata": {},
   "source": [
    "## 4.2. Human Review Workflow 생성"
   ]
  },
  {
   "cell_type": "markdown",
   "metadata": {},
   "source": [
    "이 섹션에서는 플로우 정의를 작성합니다. 플로우 정의를 통해 다음을 지정할 수 있습니다.\n",
    "\n",
    "- 작업을 수행할 인력\n",
    "- Worker task template; 인력이 받을 지침\n",
    "- 작업을 받는 작업자 수 및 작업을 완료하기 위한 시간 제한을 포함한 worker task 구성\n",
    "- 출력 데이터가 저장될 위치"
   ]
  },
  {
   "cell_type": "code",
   "execution_count": 16,
   "metadata": {},
   "outputs": [],
   "source": [
    "from sagemaker import get_execution_role\n",
    "role = get_execution_role()\n",
    "\n",
    "create_workflow_definition_response = sagemaker_client.create_flow_definition(\n",
    "        FlowDefinitionName= flowDefinitionName,\n",
    "        RoleArn= role,\n",
    "        HumanLoopConfig= {\n",
    "            \"WorkteamArn\": WORKTEAM_ARN,\n",
    "            \"HumanTaskUiArn\": humanTaskUiArn,\n",
    "            \"TaskCount\": 1,\n",
    "            \"TaskDescription\": \"Identifythe class in an image.\",\n",
    "            \"TaskTitle\": \"Image Classification a2i demo\"\n",
    "        },\n",
    "        OutputConfig={\n",
    "            \"S3OutputPath\" : OUTPUT_PATH\n",
    "        }\n",
    "    )\n",
    "flowDefinitionArn = create_workflow_definition_response['FlowDefinitionArn'] # let's save this ARN for future use"
   ]
  },
  {
   "cell_type": "code",
   "execution_count": 17,
   "metadata": {},
   "outputs": [
    {
     "name": "stdout",
     "output_type": "stream",
     "text": [
      "Initializing\n",
      "Active\n",
      "Flow Definition is active\n"
     ]
    }
   ],
   "source": [
    "# Describe flow definition - status가 activer가 되어야 합니다.\n",
    "for x in range(60):\n",
    "    describeFlowDefinitionResponse = sagemaker_client.describe_flow_definition(FlowDefinitionName=flowDefinitionName)\n",
    "    print(describeFlowDefinitionResponse['FlowDefinitionStatus'])\n",
    "    if (describeFlowDefinitionResponse['FlowDefinitionStatus'] == 'Active'):\n",
    "        print(\"Flow Definition is active\")\n",
    "        break\n",
    "    time.sleep(2)"
   ]
  },
  {
   "cell_type": "markdown",
   "metadata": {},
   "source": [
    "## 4.3. Human Loop 시작\n",
    "\n",
    "휴먼 리뷰 워크플로를 설정했으므로 휴먼 루프를 시작할 준비가 되었습니다. 여기에서 예측 결과가 좋지 않는 경우에만 Human Loop를 시작합니다.\n",
    "샘플 데이터들은 강아지가 아닌 이미지들을 대상으로 실험해 보겠습니다.\n",
    "\n",
    "먼저, A2I UI가 표시할 샘플 이미지를 s3 버킷으로 가져옵니다."
   ]
  },
  {
   "cell_type": "code",
   "execution_count": 18,
   "metadata": {},
   "outputs": [],
   "source": [
    "!aws s3 sync ./test_samples/background/ s3://{BUCKET}/a2i-results/sample-a2i-images/\n",
    "    \n",
    "human_loops_started = []\n",
    "SCORE_THRESHOLD = .95"
   ]
  },
  {
   "cell_type": "code",
   "execution_count": 19,
   "metadata": {},
   "outputs": [
    {
     "name": "stdout",
     "output_type": "stream",
     "text": [
      "Confidence Score of 0.954659819603 is above than the threshold of 0.95\n",
      "No human loop created. \n",
      "\n",
      "Confidence Score of 0.952144384384 is above than the threshold of 0.95\n",
      "No human loop created. \n",
      "\n",
      "Confidence Score of 0.954976141453 is above than the threshold of 0.95\n",
      "No human loop created. \n",
      "\n",
      "s3://sagemaker-us-east-1-143656149352/a2i-results/sample-a2i-images/000000059044.jpg\n",
      "Confidence Score of 0.941992938519 is less than the threshold of 0.95\n",
      "Starting human loop with name: 21c33920-7913-4963-870f-43cc55667be3 \n",
      "\n",
      "s3://sagemaker-us-east-1-143656149352/a2i-results/sample-a2i-images/000000119233.jpg\n",
      "Confidence Score of 0.939756512642 is less than the threshold of 0.95\n",
      "Starting human loop with name: f5f74c6a-eb91-430e-8ba2-d6f2fc84abac \n",
      "\n",
      "Confidence Score of 0.951179385185 is above than the threshold of 0.95\n",
      "No human loop created. \n",
      "\n"
     ]
    }
   ],
   "source": [
    "for fname in test_bg_img_list:\n",
    "    img_filepath = os.path.join(test_bg_img_path, fname)\n",
    "    pred_cls, pred_cls_str, pred_score = model.predict(img_filepath, show_image=False)\n",
    "\n",
    "    \n",
    "    # Our condition for triggering a human review    \n",
    "    if (pred_score < SCORE_THRESHOLD):\n",
    "\n",
    "        s3_fname='s3://%s/a2i-results/sample-a2i-images/%s' % (BUCKET, fname)\n",
    "        print(s3_fname)\n",
    "        humanLoopName = str(uuid.uuid4())        \n",
    "        inputContent = {\n",
    "            #\"initialValue\": str(pred_score[pred_cls]),\n",
    "            \"initialValue\": pred_cls_str,\n",
    "            \"taskObject\": s3_fname # the s3 object will be passed to the worker task UI to render\n",
    "        }\n",
    "        # start an a2i human review loop with an input\n",
    "        start_loop_response = a2i.start_human_loop(\n",
    "            HumanLoopName=humanLoopName,\n",
    "            FlowDefinitionArn=flowDefinitionArn,\n",
    "            HumanLoopInput={\n",
    "                \"InputContent\": json.dumps(inputContent)\n",
    "            }\n",
    "        )\n",
    "        human_loops_started.append(humanLoopName)\n",
    "        print('Confidence Score of {} is less than the threshold of {}'.format(pred_score, SCORE_THRESHOLD))\n",
    "        print('Starting human loop with name: {} \\n'.format(humanLoopName))\n",
    "    else:\n",
    "        print('Confidence Score of {} is above than the threshold of {}'.format(pred_score, SCORE_THRESHOLD))\n",
    "        print('No human loop created. \\n')"
   ]
  },
  {
   "cell_type": "markdown",
   "metadata": {},
   "source": [
    "## 4.4. Human Loop Status 확인"
   ]
  },
  {
   "cell_type": "code",
   "execution_count": 20,
   "metadata": {},
   "outputs": [
    {
     "name": "stdout",
     "output_type": "stream",
     "text": [
      "HumanLoop Name: 21c33920-7913-4963-870f-43cc55667be3\n",
      "HumanLoop Status: InProgress\n",
      "HumanLoop Output Destination: {u'OutputS3Uri': u's3://sagemaker-us-east-1-143656149352/a2i-results/fd-sagemaker-iot-public-workshop-demo-2020-06-15-08-17-39/2020/06/15/08/17/51/21c33920-7913-4963-870f-43cc55667be3/output.json'}\n",
      "\n",
      "\n",
      "HumanLoop Name: f5f74c6a-eb91-430e-8ba2-d6f2fc84abac\n",
      "HumanLoop Status: InProgress\n",
      "HumanLoop Output Destination: {u'OutputS3Uri': u's3://sagemaker-us-east-1-143656149352/a2i-results/fd-sagemaker-iot-public-workshop-demo-2020-06-15-08-17-39/2020/06/15/08/17/51/f5f74c6a-eb91-430e-8ba2-d6f2fc84abac/output.json'}\n",
      "\n",
      "\n"
     ]
    }
   ],
   "source": [
    "completed_human_loops = []\n",
    "for human_loop_name in human_loops_started:\n",
    "    resp = a2i.describe_human_loop(HumanLoopName=human_loop_name)\n",
    "    print('HumanLoop Name: {}'.format(human_loop_name))\n",
    "    print('HumanLoop Status: {}'.format(resp[\"HumanLoopStatus\"]))\n",
    "    print('HumanLoop Output Destination: {}'.format(resp[\"HumanLoopOutput\"]))\n",
    "    print('\\n')\n",
    "    \n",
    "    if resp[\"HumanLoopStatus\"] == \"Completed\":\n",
    "        completed_human_loops.append(resp)"
   ]
  },
  {
   "cell_type": "code",
   "execution_count": 21,
   "metadata": {},
   "outputs": [
    {
     "name": "stdout",
     "output_type": "stream",
     "text": [
      "Navigate to the private worker portal and do the tasks. Make sure you've invited yourself to your workteam!\n",
      "https://clsherp14m.labeling.us-east-1.sagemaker.aws\n"
     ]
    }
   ],
   "source": [
    "workteamName = WORKTEAM_ARN[WORKTEAM_ARN.rfind('/') + 1:]\n",
    "print(\"Navigate to the private worker portal and do the tasks. Make sure you've invited yourself to your workteam!\")\n",
    "print('https://' + sagemaker_client.describe_workteam(WorkteamName=workteamName)['Workteam']['SubDomain'])"
   ]
  },
  {
   "cell_type": "code",
   "execution_count": 22,
   "metadata": {},
   "outputs": [
    {
     "name": "stdout",
     "output_type": "stream",
     "text": [
      "HumanLoop Name: 21c33920-7913-4963-870f-43cc55667be3\n",
      "HumanLoop Status: Completed\n",
      "HumanLoop Output Destination: {u'OutputS3Uri': u's3://sagemaker-us-east-1-143656149352/a2i-results/fd-sagemaker-iot-public-workshop-demo-2020-06-15-08-17-39/2020/06/15/08/17/51/21c33920-7913-4963-870f-43cc55667be3/output.json'}\n",
      "\n",
      "\n",
      "HumanLoop Name: f5f74c6a-eb91-430e-8ba2-d6f2fc84abac\n",
      "HumanLoop Status: Completed\n",
      "HumanLoop Output Destination: {u'OutputS3Uri': u's3://sagemaker-us-east-1-143656149352/a2i-results/fd-sagemaker-iot-public-workshop-demo-2020-06-15-08-17-39/2020/06/15/08/17/51/f5f74c6a-eb91-430e-8ba2-d6f2fc84abac/output.json'}\n",
      "\n",
      "\n"
     ]
    }
   ],
   "source": [
    "completed_human_loops = []\n",
    "for human_loop_name in human_loops_started:\n",
    "    resp = a2i.describe_human_loop(HumanLoopName=human_loop_name)\n",
    "    print('HumanLoop Name: {}'.format(human_loop_name))\n",
    "    print('HumanLoop Status: {}'.format(resp[\"HumanLoopStatus\"]))\n",
    "    print('HumanLoop Output Destination: {}'.format(resp[\"HumanLoopOutput\"]))\n",
    "    print('\\n')\n",
    "    \n",
    "    if resp[\"HumanLoopStatus\"] == \"Completed\":\n",
    "        completed_human_loops.append(resp)"
   ]
  },
  {
   "cell_type": "markdown",
   "metadata": {},
   "source": [
    "## 4.5. View Task Results  "
   ]
  },
  {
   "cell_type": "code",
   "execution_count": 23,
   "metadata": {},
   "outputs": [
    {
     "data": {
      "text/plain": [
       "{u'CreationTime': datetime.datetime(2020, 6, 15, 8, 17, 51, 99000, tzinfo=tzlocal()),\n",
       " u'FlowDefinitionArn': u'arn:aws:sagemaker:us-east-1:143656149352:flow-definition/fd-sagemaker-iot-public-workshop-demo-2020-06-15-08-17-39',\n",
       " u'HumanLoopArn': u'arn:aws:sagemaker:us-east-1:143656149352:human-loop/21c33920-7913-4963-870f-43cc55667be3',\n",
       " u'HumanLoopName': u'21c33920-7913-4963-870f-43cc55667be3',\n",
       " u'HumanLoopOutput': {u'OutputS3Uri': u's3://sagemaker-us-east-1-143656149352/a2i-results/fd-sagemaker-iot-public-workshop-demo-2020-06-15-08-17-39/2020/06/15/08/17/51/21c33920-7913-4963-870f-43cc55667be3/output.json'},\n",
       " u'HumanLoopStatus': u'Completed',\n",
       " 'ResponseMetadata': {'HTTPHeaders': {'access-control-allow-origin': '*',\n",
       "   'connection': 'keep-alive',\n",
       "   'content-length': '831',\n",
       "   'content-type': 'application/json; charset=UTF-8',\n",
       "   'date': 'Mon, 15 Jun 2020 08:20:05 GMT',\n",
       "   'x-amz-apigw-id': 'OKRQWFLrIAMFx6A=',\n",
       "   'x-amzn-requestid': 'db81b13b-5d14-4b4b-adb5-2da8d0e83653',\n",
       "   'x-amzn-trace-id': 'Root=1-5ee72f35-4812a874207287e9bf21c895'},\n",
       "  'HTTPStatusCode': 200,\n",
       "  'RequestId': 'db81b13b-5d14-4b4b-adb5-2da8d0e83653',\n",
       "  'RetryAttempts': 0}}"
      ]
     },
     "execution_count": 23,
     "metadata": {},
     "output_type": "execute_result"
    }
   ],
   "source": [
    "completed_human_loops[0]"
   ]
  },
  {
   "cell_type": "code",
   "execution_count": 24,
   "metadata": {},
   "outputs": [
    {
     "name": "stdout",
     "output_type": "stream",
     "text": [
      "{ u'flowDefinitionArn': u'arn:aws:sagemaker:us-east-1:143656149352:flow-definition/fd-sagemaker-iot-public-workshop-demo-2020-06-15-08-17-39',\n",
      "  u'humanAnswers': [ { u'answerContent': { u'annotatedResult': { u'label': u'background'}},\n",
      "                       u'submissionTime': u'2020-06-15T08:19:34.099Z',\n",
      "                       u'workerId': u'9ac6f985c1ba6a93',\n",
      "                       u'workerMetadata': { u'identityData': { u'identityProviderType': u'Cognito',\n",
      "                                                               u'issuer': u'https://cognito-idp.us-east-1.amazonaws.com/us-east-1_WS9xgRnZ2',\n",
      "                                                               u'sub': u'69386bae-a84e-414a-88d1-35a2031479d9'}}}],\n",
      "  u'humanLoopName': u'21c33920-7913-4963-870f-43cc55667be3',\n",
      "  u'inputContent': { u'initialValue': u'dog',\n",
      "                     u'taskObject': u's3://sagemaker-us-east-1-143656149352/a2i-results/sample-a2i-images/000000059044.jpg'}}\n",
      "\n",
      "\n",
      "{ u'flowDefinitionArn': u'arn:aws:sagemaker:us-east-1:143656149352:flow-definition/fd-sagemaker-iot-public-workshop-demo-2020-06-15-08-17-39',\n",
      "  u'humanAnswers': [ { u'answerContent': { u'annotatedResult': { u'label': u'background'}},\n",
      "                       u'submissionTime': u'2020-06-15T08:19:28.814Z',\n",
      "                       u'workerId': u'9ac6f985c1ba6a93',\n",
      "                       u'workerMetadata': { u'identityData': { u'identityProviderType': u'Cognito',\n",
      "                                                               u'issuer': u'https://cognito-idp.us-east-1.amazonaws.com/us-east-1_WS9xgRnZ2',\n",
      "                                                               u'sub': u'69386bae-a84e-414a-88d1-35a2031479d9'}}}],\n",
      "  u'humanLoopName': u'f5f74c6a-eb91-430e-8ba2-d6f2fc84abac',\n",
      "  u'inputContent': { u'initialValue': u'dog',\n",
      "                     u'taskObject': u's3://sagemaker-us-east-1-143656149352/a2i-results/sample-a2i-images/000000119233.jpg'}}\n",
      "\n",
      "\n"
     ]
    }
   ],
   "source": [
    "import re\n",
    "import pprint\n",
    "\n",
    "pp = pprint.PrettyPrinter(indent=2)\n",
    "\n",
    "for resp in completed_human_loops:\n",
    "    splitted_string = re.split('s3://' +  BUCKET + '/', resp['HumanLoopOutput']['OutputS3Uri'])\n",
    "    output_bucket_key = splitted_string[1]\n",
    "\n",
    "    # load json\n",
    "    response = s3.get_object(Bucket=BUCKET, Key=output_bucket_key)\n",
    "    content = response[\"Body\"].read()\n",
    "    json_output = json.loads(content)\n",
    "    pp.pprint(json_output)\n",
    "    print('\\n')"
   ]
  },
  {
   "cell_type": "markdown",
   "metadata": {},
   "source": [
    "# 5. Incremental Training"
   ]
  },
  {
   "cell_type": "markdown",
   "metadata": {},
   "source": [
    "TODO"
   ]
  }
 ],
 "metadata": {
  "kernelspec": {
   "display_name": "conda_tensorflow_p27",
   "language": "python",
   "name": "conda_tensorflow_p27"
  },
  "language_info": {
   "codemirror_mode": {
    "name": "ipython",
    "version": 2
   },
   "file_extension": ".py",
   "mimetype": "text/x-python",
   "name": "python",
   "nbconvert_exporter": "python",
   "pygments_lexer": "ipython2",
   "version": "2.7.16"
  }
 },
 "nbformat": 4,
 "nbformat_minor": 4
}
